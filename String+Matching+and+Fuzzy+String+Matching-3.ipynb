{
 "cells": [
  {
   "cell_type": "markdown",
   "metadata": {},
   "source": [
    "*This analysis goes over two very helpful techniques:*\n",
    "\n",
    "1. The use of commands such as re.search as part of the RegEx expressions to extract values from strings.\n",
    "2. Fuzzy String Matching.\n",
    "\n",
    "Data Source: Extracted from Google APIs, Big_query \n",
    "Dataset name: San_francisco_bikeshare.\n",
    "\n",
    "This data provides information about Bike Share Trips in San Francisco."
   ]
  },
  {
   "cell_type": "markdown",
   "metadata": {},
   "source": [
    "First: importing required environments."
   ]
  },
  {
   "cell_type": "code",
   "execution_count": null,
   "metadata": {
    "collapsed": true
   },
   "outputs": [],
   "source": [
    "import pandas as pd\n",
    "import numpy as np\n",
    "import re\n",
    "from fuzzywuzzy import fuzz,process"
   ]
  },
  {
   "cell_type": "markdown",
   "metadata": {},
   "source": [
    "Second: reading cvs dataset."
   ]
  },
  {
   "cell_type": "code",
   "execution_count": 2,
   "metadata": {
    "collapsed": true
   },
   "outputs": [],
   "source": [
    "df = pd.read_csv('SFbikesharetrips.csv', encoding='latin1')"
   ]
  },
  {
   "cell_type": "markdown",
   "metadata": {},
   "source": [
    "Third: examining data and variables."
   ]
  },
  {
   "cell_type": "code",
   "execution_count": 3,
   "metadata": {
    "collapsed": false
   },
   "outputs": [
    {
     "data": {
      "text/html": [
       "<div>\n",
       "<table border=\"1\" class=\"dataframe\">\n",
       "  <thead>\n",
       "    <tr style=\"text-align: right;\">\n",
       "      <th></th>\n",
       "      <th>start_date</th>\n",
       "      <th>start_station_name</th>\n",
       "      <th>start_station_id</th>\n",
       "      <th>end_date</th>\n",
       "      <th>end_station_name</th>\n",
       "      <th>end_station_id</th>\n",
       "      <th>bike_number</th>\n",
       "      <th>start_station_latitude</th>\n",
       "      <th>start_station_longitude</th>\n",
       "      <th>end_station_latitude</th>\n",
       "      <th>end_station_longitude</th>\n",
       "      <th>member_birth_year</th>\n",
       "      <th>member_gender</th>\n",
       "    </tr>\n",
       "  </thead>\n",
       "  <tbody>\n",
       "    <tr>\n",
       "      <th>0</th>\n",
       "      <td>2018-03-31 22:13:30 UTC</td>\n",
       "      <td>Post St at Kearny St</td>\n",
       "      <td>19</td>\n",
       "      <td>2018-03-31 22:34:35 UTC</td>\n",
       "      <td>Broderick St at Oak St</td>\n",
       "      <td>71</td>\n",
       "      <td>1021</td>\n",
       "      <td>37.788975</td>\n",
       "      <td>-122.403452</td>\n",
       "      <td>37.773063</td>\n",
       "      <td>-122.439078</td>\n",
       "      <td>1993.0</td>\n",
       "      <td>Female</td>\n",
       "    </tr>\n",
       "    <tr>\n",
       "      <th>1</th>\n",
       "      <td>2018-03-31 21:18:59 UTC</td>\n",
       "      <td>Valencia St at Cesar Chavez St</td>\n",
       "      <td>141</td>\n",
       "      <td>2018-03-31 21:24:24 UTC</td>\n",
       "      <td>Valencia St at 22nd St</td>\n",
       "      <td>133</td>\n",
       "      <td>1082</td>\n",
       "      <td>37.747998</td>\n",
       "      <td>-122.420219</td>\n",
       "      <td>37.755213</td>\n",
       "      <td>-122.420975</td>\n",
       "      <td>1992.0</td>\n",
       "      <td>Male</td>\n",
       "    </tr>\n",
       "  </tbody>\n",
       "</table>\n",
       "</div>"
      ],
      "text/plain": [
       "                start_date              start_station_name  start_station_id  \\\n",
       "0  2018-03-31 22:13:30 UTC            Post St at Kearny St                19   \n",
       "1  2018-03-31 21:18:59 UTC  Valencia St at Cesar Chavez St               141   \n",
       "\n",
       "                  end_date        end_station_name  end_station_id  \\\n",
       "0  2018-03-31 22:34:35 UTC  Broderick St at Oak St              71   \n",
       "1  2018-03-31 21:24:24 UTC  Valencia St at 22nd St             133   \n",
       "\n",
       "   bike_number  start_station_latitude  start_station_longitude  \\\n",
       "0         1021               37.788975              -122.403452   \n",
       "1         1082               37.747998              -122.420219   \n",
       "\n",
       "   end_station_latitude  end_station_longitude  member_birth_year  \\\n",
       "0             37.773063            -122.439078             1993.0   \n",
       "1             37.755213            -122.420975             1992.0   \n",
       "\n",
       "  member_gender  \n",
       "0        Female  \n",
       "1          Male  "
      ]
     },
     "execution_count": 3,
     "metadata": {},
     "output_type": "execute_result"
    }
   ],
   "source": [
    "df.head(2)"
   ]
  },
  {
   "cell_type": "code",
   "execution_count": 4,
   "metadata": {
    "collapsed": false
   },
   "outputs": [
    {
     "data": {
      "text/plain": [
       "(1000, 13)"
      ]
     },
     "execution_count": 4,
     "metadata": {},
     "output_type": "execute_result"
    }
   ],
   "source": [
    "df.shape"
   ]
  },
  {
   "cell_type": "code",
   "execution_count": 5,
   "metadata": {
    "collapsed": false
   },
   "outputs": [
    {
     "data": {
      "text/plain": [
       "Index([u'start_date', u'start_station_name', u'start_station_id', u'end_date',\n",
       "       u'end_station_name', u'end_station_id', u'bike_number',\n",
       "       u'start_station_latitude', u'start_station_longitude',\n",
       "       u'end_station_latitude', u'end_station_longitude', u'member_birth_year',\n",
       "       u'member_gender'],\n",
       "      dtype='object')"
      ]
     },
     "execution_count": 5,
     "metadata": {},
     "output_type": "execute_result"
    }
   ],
   "source": [
    "df.columns"
   ]
  },
  {
   "cell_type": "markdown",
   "metadata": {},
   "source": [
    "\n",
    "\n",
    "\n",
    "Fourth: examining pick-up and drop-off addresses."
   ]
  },
  {
   "cell_type": "code",
   "execution_count": 6,
   "metadata": {
    "collapsed": true
   },
   "outputs": [],
   "source": [
    "dfstartaddress = df['start_station_name']"
   ]
  },
  {
   "cell_type": "code",
   "execution_count": 7,
   "metadata": {
    "collapsed": false
   },
   "outputs": [
    {
     "data": {
      "text/plain": [
       "0              Post St at Kearny St\n",
       "1    Valencia St at Cesar Chavez St\n",
       "2         Fulton St at Bancroft Way\n",
       "3        S. 4th St at San Carlos St\n",
       "4          Telegraph Ave at 27th St\n",
       "Name: start_station_name, dtype: object"
      ]
     },
     "execution_count": 7,
     "metadata": {},
     "output_type": "execute_result"
    }
   ],
   "source": [
    "dfstartaddress.head(5)"
   ]
  },
  {
   "cell_type": "markdown",
   "metadata": {},
   "source": [
    "Fifth: identifying main address types."
   ]
  },
  {
   "cell_type": "code",
   "execution_count": 8,
   "metadata": {
    "collapsed": false
   },
   "outputs": [],
   "source": [
    "pick_up_address = []\n",
    "\n",
    "for i in dfstartaddress:\n",
    "    if re.search('St|Way|Ave|5th at Folsom|Broadway at Kearny', i):\n",
    "        pick_up_address.append('Street Address')\n",
    "    elif re.search('BART', i):\n",
    "        pick_up_address.append('Bart Station Address')\n",
    "    elif re.search('Park|Hall|Center|Square|Playground|Plaza|Public Market', i):\n",
    "        pick_up_address.append('Public Place Address')\n",
    "    else:\n",
    "        pick_up_address.append('')"
   ]
  },
  {
   "cell_type": "code",
   "execution_count": 9,
   "metadata": {
    "collapsed": false
   },
   "outputs": [],
   "source": [
    "df['pick_up_address'] = pick_up_address"
   ]
  },
  {
   "cell_type": "markdown",
   "metadata": {},
   "source": [
    "Sixth: making sure all address types have been identified."
   ]
  },
  {
   "cell_type": "code",
   "execution_count": 10,
   "metadata": {
    "collapsed": false
   },
   "outputs": [
    {
     "data": {
      "text/plain": [
       "start_date                  0\n",
       "start_station_name          0\n",
       "start_station_id            0\n",
       "end_date                    0\n",
       "end_station_name            0\n",
       "end_station_id              0\n",
       "bike_number                 0\n",
       "start_station_latitude      0\n",
       "start_station_longitude     0\n",
       "end_station_latitude        0\n",
       "end_station_longitude       0\n",
       "member_birth_year          63\n",
       "member_gender              63\n",
       "pick_up_address             0\n",
       "dtype: int64"
      ]
     },
     "execution_count": 10,
     "metadata": {},
     "output_type": "execute_result"
    }
   ],
   "source": [
    "df.isnull().sum()"
   ]
  },
  {
   "cell_type": "markdown",
   "metadata": {},
   "source": [
    "Seventh: examining drop-off address."
   ]
  },
  {
   "cell_type": "code",
   "execution_count": 11,
   "metadata": {
    "collapsed": true
   },
   "outputs": [],
   "source": [
    "dfendaddress = df['end_station_name']"
   ]
  },
  {
   "cell_type": "code",
   "execution_count": 12,
   "metadata": {
    "collapsed": false
   },
   "outputs": [
    {
     "data": {
      "text/plain": [
       "0           Broderick St at Oak St\n",
       "1           Valencia St at 22nd St\n",
       "2                45th St at Manila\n",
       "3        San Salvador St at 9th St\n",
       "4    Shattuck Ave at Telegraph Ave\n",
       "Name: end_station_name, dtype: object"
      ]
     },
     "execution_count": 12,
     "metadata": {},
     "output_type": "execute_result"
    }
   ],
   "source": [
    "dfendaddress.head(5)"
   ]
  },
  {
   "cell_type": "markdown",
   "metadata": {},
   "source": [
    "Eighth: identifyng main address types."
   ]
  },
  {
   "cell_type": "code",
   "execution_count": 13,
   "metadata": {
    "collapsed": true
   },
   "outputs": [],
   "source": [
    "drop_off_address = []\n",
    "\n",
    "for a in dfendaddress:\n",
    "    if re.search('St|Way|Ave|5th at Folsom|Broadway at Kearny', a):\n",
    "        drop_off_address.append('Street Address')\n",
    "    elif re.search('BART', a):\n",
    "        drop_off_address.append('Bart Station Address')\n",
    "    elif re.search('Park|Hall|Center|Square|Playground|Plaza|Public Market', a):\n",
    "        drop_off_address.append('Public Place Address')\n",
    "    else:\n",
    "        drop_off_address.append('')"
   ]
  },
  {
   "cell_type": "code",
   "execution_count": 14,
   "metadata": {
    "collapsed": true
   },
   "outputs": [],
   "source": [
    "df['drop_off_address'] = drop_off_address"
   ]
  },
  {
   "cell_type": "markdown",
   "metadata": {},
   "source": [
    "Nineth: making sure all addresses types have been identified."
   ]
  },
  {
   "cell_type": "code",
   "execution_count": 15,
   "metadata": {
    "collapsed": false
   },
   "outputs": [
    {
     "data": {
      "text/plain": [
       "start_date                  0\n",
       "start_station_name          0\n",
       "start_station_id            0\n",
       "end_date                    0\n",
       "end_station_name            0\n",
       "end_station_id              0\n",
       "bike_number                 0\n",
       "start_station_latitude      0\n",
       "start_station_longitude     0\n",
       "end_station_latitude        0\n",
       "end_station_longitude       0\n",
       "member_birth_year          63\n",
       "member_gender              63\n",
       "pick_up_address             0\n",
       "drop_off_address            0\n",
       "dtype: int64"
      ]
     },
     "execution_count": 15,
     "metadata": {},
     "output_type": "execute_result"
    }
   ],
   "source": [
    "df.isnull().sum()"
   ]
  },
  {
   "cell_type": "markdown",
   "metadata": {},
   "source": [
    "Tenth: FuzzyWuzzy,\n",
    "    setting ratios with pick-up and drop-off addresses, through the \n",
    "    application of token set ratios    "
   ]
  },
  {
   "cell_type": "code",
   "execution_count": 16,
   "metadata": {
    "collapsed": false
   },
   "outputs": [],
   "source": [
    "def get_ratio(row):\n",
    "    name = row['pick_up_address']\n",
    "    namel = row['drop_off_address']\n",
    "    return fuzz.token_set_ratio(name, namel)"
   ]
  },
  {
   "cell_type": "markdown",
   "metadata": {},
   "source": [
    "Restricting the data to the pairs that exceeded a match score of 65."
   ]
  },
  {
   "cell_type": "code",
   "execution_count": 17,
   "metadata": {
    "collapsed": false
   },
   "outputs": [
    {
     "data": {
      "text/html": [
       "<div>\n",
       "<table border=\"1\" class=\"dataframe\">\n",
       "  <thead>\n",
       "    <tr style=\"text-align: right;\">\n",
       "      <th></th>\n",
       "      <th>start_date</th>\n",
       "      <th>start_station_name</th>\n",
       "      <th>start_station_id</th>\n",
       "      <th>end_date</th>\n",
       "      <th>end_station_name</th>\n",
       "      <th>end_station_id</th>\n",
       "      <th>bike_number</th>\n",
       "      <th>start_station_latitude</th>\n",
       "      <th>start_station_longitude</th>\n",
       "      <th>end_station_latitude</th>\n",
       "      <th>end_station_longitude</th>\n",
       "      <th>member_birth_year</th>\n",
       "      <th>member_gender</th>\n",
       "      <th>pick_up_address</th>\n",
       "      <th>drop_off_address</th>\n",
       "    </tr>\n",
       "  </thead>\n",
       "  <tbody>\n",
       "    <tr>\n",
       "      <th>0</th>\n",
       "      <td>2018-03-31 22:13:30 UTC</td>\n",
       "      <td>Post St at Kearny St</td>\n",
       "      <td>19</td>\n",
       "      <td>2018-03-31 22:34:35 UTC</td>\n",
       "      <td>Broderick St at Oak St</td>\n",
       "      <td>71</td>\n",
       "      <td>1021</td>\n",
       "      <td>37.788975</td>\n",
       "      <td>-122.403452</td>\n",
       "      <td>37.773063</td>\n",
       "      <td>-122.439078</td>\n",
       "      <td>1993.0</td>\n",
       "      <td>Female</td>\n",
       "      <td>Street Address</td>\n",
       "      <td>Street Address</td>\n",
       "    </tr>\n",
       "    <tr>\n",
       "      <th>1</th>\n",
       "      <td>2018-03-31 21:18:59 UTC</td>\n",
       "      <td>Valencia St at Cesar Chavez St</td>\n",
       "      <td>141</td>\n",
       "      <td>2018-03-31 21:24:24 UTC</td>\n",
       "      <td>Valencia St at 22nd St</td>\n",
       "      <td>133</td>\n",
       "      <td>1082</td>\n",
       "      <td>37.747998</td>\n",
       "      <td>-122.420219</td>\n",
       "      <td>37.755213</td>\n",
       "      <td>-122.420975</td>\n",
       "      <td>1992.0</td>\n",
       "      <td>Male</td>\n",
       "      <td>Street Address</td>\n",
       "      <td>Street Address</td>\n",
       "    </tr>\n",
       "    <tr>\n",
       "      <th>2</th>\n",
       "      <td>2018-03-31 20:24:12 UTC</td>\n",
       "      <td>Fulton St at Bancroft Way</td>\n",
       "      <td>247</td>\n",
       "      <td>2018-03-31 21:21:09 UTC</td>\n",
       "      <td>45th St at Manila</td>\n",
       "      <td>210</td>\n",
       "      <td>1038</td>\n",
       "      <td>37.867789</td>\n",
       "      <td>-122.265896</td>\n",
       "      <td>37.833294</td>\n",
       "      <td>-122.256224</td>\n",
       "      <td>1964.0</td>\n",
       "      <td>Male</td>\n",
       "      <td>Street Address</td>\n",
       "      <td>Street Address</td>\n",
       "    </tr>\n",
       "    <tr>\n",
       "      <th>3</th>\n",
       "      <td>2018-03-31 19:46:11 UTC</td>\n",
       "      <td>S. 4th St at San Carlos St</td>\n",
       "      <td>208</td>\n",
       "      <td>2018-03-31 19:51:35 UTC</td>\n",
       "      <td>San Salvador St at 9th St</td>\n",
       "      <td>317</td>\n",
       "      <td>2731</td>\n",
       "      <td>37.332836</td>\n",
       "      <td>-121.883912</td>\n",
       "      <td>37.333955</td>\n",
       "      <td>-121.877349</td>\n",
       "      <td>1992.0</td>\n",
       "      <td>Female</td>\n",
       "      <td>Street Address</td>\n",
       "      <td>Street Address</td>\n",
       "    </tr>\n",
       "    <tr>\n",
       "      <th>4</th>\n",
       "      <td>2018-03-31 17:18:07 UTC</td>\n",
       "      <td>Telegraph Ave at 27th St</td>\n",
       "      <td>179</td>\n",
       "      <td>2018-03-31 19:03:30 UTC</td>\n",
       "      <td>Shattuck Ave at Telegraph Ave</td>\n",
       "      <td>158</td>\n",
       "      <td>3208</td>\n",
       "      <td>37.816073</td>\n",
       "      <td>-122.267886</td>\n",
       "      <td>37.833279</td>\n",
       "      <td>-122.263490</td>\n",
       "      <td>NaN</td>\n",
       "      <td>NaN</td>\n",
       "      <td>Street Address</td>\n",
       "      <td>Street Address</td>\n",
       "    </tr>\n",
       "  </tbody>\n",
       "</table>\n",
       "</div>"
      ],
      "text/plain": [
       "                start_date              start_station_name  start_station_id  \\\n",
       "0  2018-03-31 22:13:30 UTC            Post St at Kearny St                19   \n",
       "1  2018-03-31 21:18:59 UTC  Valencia St at Cesar Chavez St               141   \n",
       "2  2018-03-31 20:24:12 UTC       Fulton St at Bancroft Way               247   \n",
       "3  2018-03-31 19:46:11 UTC      S. 4th St at San Carlos St               208   \n",
       "4  2018-03-31 17:18:07 UTC        Telegraph Ave at 27th St               179   \n",
       "\n",
       "                  end_date               end_station_name  end_station_id  \\\n",
       "0  2018-03-31 22:34:35 UTC         Broderick St at Oak St              71   \n",
       "1  2018-03-31 21:24:24 UTC         Valencia St at 22nd St             133   \n",
       "2  2018-03-31 21:21:09 UTC              45th St at Manila             210   \n",
       "3  2018-03-31 19:51:35 UTC      San Salvador St at 9th St             317   \n",
       "4  2018-03-31 19:03:30 UTC  Shattuck Ave at Telegraph Ave             158   \n",
       "\n",
       "   bike_number  start_station_latitude  start_station_longitude  \\\n",
       "0         1021               37.788975              -122.403452   \n",
       "1         1082               37.747998              -122.420219   \n",
       "2         1038               37.867789              -122.265896   \n",
       "3         2731               37.332836              -121.883912   \n",
       "4         3208               37.816073              -122.267886   \n",
       "\n",
       "   end_station_latitude  end_station_longitude  member_birth_year  \\\n",
       "0             37.773063            -122.439078             1993.0   \n",
       "1             37.755213            -122.420975             1992.0   \n",
       "2             37.833294            -122.256224             1964.0   \n",
       "3             37.333955            -121.877349             1992.0   \n",
       "4             37.833279            -122.263490                NaN   \n",
       "\n",
       "  member_gender pick_up_address drop_off_address  \n",
       "0        Female  Street Address   Street Address  \n",
       "1          Male  Street Address   Street Address  \n",
       "2          Male  Street Address   Street Address  \n",
       "3        Female  Street Address   Street Address  \n",
       "4           NaN  Street Address   Street Address  "
      ]
     },
     "execution_count": 17,
     "metadata": {},
     "output_type": "execute_result"
    }
   ],
   "source": [
    "df[df.apply(get_ratio, axis=1) > 65].head(5)"
   ]
  },
  {
   "cell_type": "code",
   "execution_count": 18,
   "metadata": {
    "collapsed": false
   },
   "outputs": [
    {
     "data": {
      "text/plain": [
       "1"
      ]
     },
     "execution_count": 18,
     "metadata": {},
     "output_type": "execute_result"
    }
   ],
   "source": [
    "len(df[df.apply(get_ratio, axis=1) > 65])/len(df)"
   ]
  },
  {
   "cell_type": "markdown",
   "metadata": {},
   "source": [
    "Over 50% of the pairs exceeded a match score of 65."
   ]
  },
  {
   "cell_type": "markdown",
   "metadata": {},
   "source": [
    "Eleventh: exporting dataset to csv."
   ]
  },
  {
   "cell_type": "code",
   "execution_count": 19,
   "metadata": {
    "collapsed": false
   },
   "outputs": [],
   "source": [
    "df.to_csv(r'SFBiketrips.cvs', index = False)"
   ]
  }
 ],
 "metadata": {
  "kernelspec": {
   "display_name": "Python 2",
   "language": "python",
   "name": "python2"
  },
  "language_info": {
   "codemirror_mode": {
    "name": "ipython",
    "version": 2
   },
   "file_extension": ".py",
   "mimetype": "text/x-python",
   "name": "python",
   "nbconvert_exporter": "python",
   "pygments_lexer": "ipython2",
   "version": "2.7.13"
  }
 },
 "nbformat": 4,
 "nbformat_minor": 2
}
